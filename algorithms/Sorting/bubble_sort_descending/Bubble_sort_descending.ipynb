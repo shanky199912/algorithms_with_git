{
 "cells": [
  {
   "cell_type": "code",
   "execution_count": 2,
   "metadata": {},
   "outputs": [
    {
     "name": "stdout",
     "output_type": "stream",
     "text": [
      "The values in ascending order is: \n",
      "89 54 23 12 6 "
     ]
    }
   ],
   "source": [
    "#                       BUBBLE SORT IN DESCENDINGG ORDER\n",
    "#--------------------------------------------------------------------------------------------\n",
    "class prac(object):\n",
    "    def __init__(self):\n",
    "        self.l=[]\n",
    "        self.n=int(input(\"Enter for no of elements: \"))\n",
    "\n",
    "    def work(self):\n",
    "        for i in range(self.n):\n",
    "            self.l+=[int(input(\"Enter value: \"))]\n",
    "\n",
    "        for k in range(self.n):\n",
    "            for j in range(self.n -1-k):\n",
    "                if self.l[j]<self.l[j+1]:\n",
    "                    temp=self.l[j+1]\n",
    "                    self.l[j+1]=self.l[j]\n",
    "                    self.l[j]=temp\n",
    "\n",
    "        print (\"The values in descending order is: \")\n",
    "    \n",
    "        for i in (self.l):\n",
    "            print (i, end=\" \")\n",
    "\n",
    "obj=prac()\n",
    "obj.work()"
   ]
  },
  {
   "cell_type": "code",
   "execution_count": null,
   "metadata": {},
   "outputs": [],
   "source": []
  }
 ],
 "metadata": {
  "kernelspec": {
   "display_name": "Python 3",
   "language": "python",
   "name": "python3"
  },
  "language_info": {
   "codemirror_mode": {
    "name": "ipython",
    "version": 3
   },
   "file_extension": ".py",
   "mimetype": "text/x-python",
   "name": "python",
   "nbconvert_exporter": "python",
   "pygments_lexer": "ipython3",
   "version": "3.6.5"
  }
 },
 "nbformat": 4,
 "nbformat_minor": 2
}
